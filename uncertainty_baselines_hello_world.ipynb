{
  "nbformat": 4,
  "nbformat_minor": 0,
  "metadata": {
    "colab": {
      "name": "uncertainty_baselines_hello_world.ipynb",
      "provenance": [],
      "authorship_tag": "ABX9TyMhISJhVMxHyCNJxv/DypFd",
      "include_colab_link": true
    },
    "kernelspec": {
      "name": "python3",
      "display_name": "Python 3"
    },
    "language_info": {
      "name": "python"
    }
  },
  "cells": [
    {
      "cell_type": "markdown",
      "metadata": {
        "id": "view-in-github",
        "colab_type": "text"
      },
      "source": [
        "<a href=\"https://colab.research.google.com/github/mdhornstein/uncertainty_baselines_experiments/blob/main/uncertainty_baselines_hello_world.ipynb\" target=\"_parent\"><img src=\"https://colab.research.google.com/assets/colab-badge.svg\" alt=\"Open In Colab\"/></a>"
      ]
    },
    {
      "cell_type": "code",
      "execution_count": 1,
      "metadata": {
        "colab": {
          "base_uri": "https://localhost:8080/"
        },
        "id": "MZBgArL_i62n",
        "outputId": "696de876-1506-4113-e93d-0f57006ed12b"
      },
      "outputs": [
        {
          "output_type": "stream",
          "name": "stdout",
          "text": [
            "Collecting uncertainty_baselines\n",
            "  Cloning https://github.com/google/uncertainty-baselines.git to /tmp/pip-install-agozt27l/uncertainty-baselines_360a65425e7d4385b8073b05f7d36218\n",
            "  Running command git clone -q https://github.com/google/uncertainty-baselines.git /tmp/pip-install-agozt27l/uncertainty-baselines_360a65425e7d4385b8073b05f7d36218\n",
            "Collecting robustness_metrics@ git+https://github.com/google-research/robustness_metrics.git#egg=robustness_metrics\n",
            "  Cloning https://github.com/google-research/robustness_metrics.git to /tmp/pip-install-agozt27l/robustness-metrics_13d551d0984445b8960f985944eada46\n",
            "  Running command git clone -q https://github.com/google-research/robustness_metrics.git /tmp/pip-install-agozt27l/robustness-metrics_13d551d0984445b8960f985944eada46\n",
            "Requirement already satisfied: absl-py>=0.8.1 in /usr/local/lib/python3.7/dist-packages (from uncertainty_baselines) (1.0.0)\n",
            "Requirement already satisfied: astunparse in /usr/local/lib/python3.7/dist-packages (from uncertainty_baselines) (1.6.3)\n",
            "Requirement already satisfied: chardet in /usr/local/lib/python3.7/dist-packages (from uncertainty_baselines) (3.0.4)\n",
            "Requirement already satisfied: flatbuffers in /usr/local/lib/python3.7/dist-packages (from uncertainty_baselines) (2.0)\n",
            "Requirement already satisfied: google-cloud-storage in /usr/local/lib/python3.7/dist-packages (from uncertainty_baselines) (1.18.1)\n",
            "Requirement already satisfied: idna in /usr/local/lib/python3.7/dist-packages (from uncertainty_baselines) (2.10)\n",
            "Collecting ml_collections\n",
            "  Downloading ml_collections-0.1.1.tar.gz (77 kB)\n",
            "\u001b[K     |████████████████████████████████| 77 kB 2.8 MB/s \n",
            "\u001b[?25hRequirement already satisfied: numpy>=1.7 in /usr/local/lib/python3.7/dist-packages (from uncertainty_baselines) (1.21.5)\n",
            "Requirement already satisfied: opt_einsum in /usr/local/lib/python3.7/dist-packages (from uncertainty_baselines) (3.3.0)\n",
            "Requirement already satisfied: tensorflow_probability in /usr/local/lib/python3.7/dist-packages (from uncertainty_baselines) (0.16.0)\n",
            "Collecting tfds-nightly==4.4.0.dev202111160106\n",
            "  Downloading tfds_nightly-4.4.0.dev202111160106-py3-none-any.whl (4.0 MB)\n",
            "\u001b[K     |████████████████████████████████| 4.0 MB 32.6 MB/s \n",
            "\u001b[?25hRequirement already satisfied: urllib3 in /usr/local/lib/python3.7/dist-packages (from uncertainty_baselines) (1.24.3)\n",
            "Requirement already satisfied: zipp in /usr/local/lib/python3.7/dist-packages (from uncertainty_baselines) (3.7.0)\n",
            "Collecting dm-haiku\n",
            "  Downloading dm_haiku-0.0.6-py3-none-any.whl (309 kB)\n",
            "\u001b[K     |████████████████████████████████| 309 kB 57.0 MB/s \n",
            "\u001b[?25hRequirement already satisfied: pandas in /usr/local/lib/python3.7/dist-packages (from robustness_metrics@ git+https://github.com/google-research/robustness_metrics.git#egg=robustness_metrics->uncertainty_baselines) (1.3.5)\n",
            "Requirement already satisfied: scikit-learn in /usr/local/lib/python3.7/dist-packages (from robustness_metrics@ git+https://github.com/google-research/robustness_metrics.git#egg=robustness_metrics->uncertainty_baselines) (1.0.2)\n",
            "Requirement already satisfied: tabulate in /usr/local/lib/python3.7/dist-packages (from robustness_metrics@ git+https://github.com/google-research/robustness_metrics.git#egg=robustness_metrics->uncertainty_baselines) (0.8.9)\n",
            "Requirement already satisfied: tensorflow_datasets in /usr/local/lib/python3.7/dist-packages (from robustness_metrics@ git+https://github.com/google-research/robustness_metrics.git#egg=robustness_metrics->uncertainty_baselines) (4.0.1)\n",
            "Requirement already satisfied: tensorflow_hub in /usr/local/lib/python3.7/dist-packages (from robustness_metrics@ git+https://github.com/google-research/robustness_metrics.git#egg=robustness_metrics->uncertainty_baselines) (0.12.0)\n",
            "Requirement already satisfied: promise in /usr/local/lib/python3.7/dist-packages (from tfds-nightly==4.4.0.dev202111160106->uncertainty_baselines) (2.3)\n",
            "Requirement already satisfied: termcolor in /usr/local/lib/python3.7/dist-packages (from tfds-nightly==4.4.0.dev202111160106->uncertainty_baselines) (1.1.0)\n",
            "Requirement already satisfied: requests>=2.19.0 in /usr/local/lib/python3.7/dist-packages (from tfds-nightly==4.4.0.dev202111160106->uncertainty_baselines) (2.23.0)\n",
            "Requirement already satisfied: future in /usr/local/lib/python3.7/dist-packages (from tfds-nightly==4.4.0.dev202111160106->uncertainty_baselines) (0.16.0)\n",
            "Requirement already satisfied: typing-extensions in /usr/local/lib/python3.7/dist-packages (from tfds-nightly==4.4.0.dev202111160106->uncertainty_baselines) (3.10.0.2)\n",
            "Requirement already satisfied: importlib-resources in /usr/local/lib/python3.7/dist-packages (from tfds-nightly==4.4.0.dev202111160106->uncertainty_baselines) (5.4.0)\n",
            "Requirement already satisfied: dill in /usr/local/lib/python3.7/dist-packages (from tfds-nightly==4.4.0.dev202111160106->uncertainty_baselines) (0.3.4)\n",
            "Requirement already satisfied: tqdm in /usr/local/lib/python3.7/dist-packages (from tfds-nightly==4.4.0.dev202111160106->uncertainty_baselines) (4.63.0)\n",
            "Requirement already satisfied: six in /usr/local/lib/python3.7/dist-packages (from tfds-nightly==4.4.0.dev202111160106->uncertainty_baselines) (1.15.0)\n",
            "Requirement already satisfied: protobuf>=3.12.2 in /usr/local/lib/python3.7/dist-packages (from tfds-nightly==4.4.0.dev202111160106->uncertainty_baselines) (3.17.3)\n",
            "Requirement already satisfied: tensorflow-metadata in /usr/local/lib/python3.7/dist-packages (from tfds-nightly==4.4.0.dev202111160106->uncertainty_baselines) (1.7.0)\n",
            "Requirement already satisfied: certifi>=2017.4.17 in /usr/local/lib/python3.7/dist-packages (from requests>=2.19.0->tfds-nightly==4.4.0.dev202111160106->uncertainty_baselines) (2021.10.8)\n",
            "Requirement already satisfied: wheel<1.0,>=0.23.0 in /usr/local/lib/python3.7/dist-packages (from astunparse->uncertainty_baselines) (0.37.1)\n",
            "Collecting jmp>=0.0.2\n",
            "  Downloading jmp-0.0.2-py3-none-any.whl (16 kB)\n",
            "Requirement already satisfied: google-auth>=1.2.0 in /usr/local/lib/python3.7/dist-packages (from google-cloud-storage->uncertainty_baselines) (1.35.0)\n",
            "Requirement already satisfied: google-cloud-core<2.0dev,>=1.0.0 in /usr/local/lib/python3.7/dist-packages (from google-cloud-storage->uncertainty_baselines) (1.0.3)\n",
            "Requirement already satisfied: google-resumable-media<0.5.0dev,>=0.3.1 in /usr/local/lib/python3.7/dist-packages (from google-cloud-storage->uncertainty_baselines) (0.4.1)\n",
            "Requirement already satisfied: pyasn1-modules>=0.2.1 in /usr/local/lib/python3.7/dist-packages (from google-auth>=1.2.0->google-cloud-storage->uncertainty_baselines) (0.2.8)\n",
            "Requirement already satisfied: setuptools>=40.3.0 in /usr/local/lib/python3.7/dist-packages (from google-auth>=1.2.0->google-cloud-storage->uncertainty_baselines) (57.4.0)\n",
            "Requirement already satisfied: cachetools<5.0,>=2.0.0 in /usr/local/lib/python3.7/dist-packages (from google-auth>=1.2.0->google-cloud-storage->uncertainty_baselines) (4.2.4)\n",
            "Requirement already satisfied: rsa<5,>=3.1.4 in /usr/local/lib/python3.7/dist-packages (from google-auth>=1.2.0->google-cloud-storage->uncertainty_baselines) (4.8)\n",
            "Requirement already satisfied: google-api-core<2.0.0dev,>=1.14.0 in /usr/local/lib/python3.7/dist-packages (from google-cloud-core<2.0dev,>=1.0.0->google-cloud-storage->uncertainty_baselines) (1.26.3)\n",
            "Requirement already satisfied: packaging>=14.3 in /usr/local/lib/python3.7/dist-packages (from google-api-core<2.0.0dev,>=1.14.0->google-cloud-core<2.0dev,>=1.0.0->google-cloud-storage->uncertainty_baselines) (21.3)\n",
            "Requirement already satisfied: googleapis-common-protos<2.0dev,>=1.6.0 in /usr/local/lib/python3.7/dist-packages (from google-api-core<2.0.0dev,>=1.14.0->google-cloud-core<2.0dev,>=1.0.0->google-cloud-storage->uncertainty_baselines) (1.56.0)\n",
            "Requirement already satisfied: pytz in /usr/local/lib/python3.7/dist-packages (from google-api-core<2.0.0dev,>=1.14.0->google-cloud-core<2.0dev,>=1.0.0->google-cloud-storage->uncertainty_baselines) (2018.9)\n",
            "Requirement already satisfied: pyparsing!=3.0.5,>=2.0.2 in /usr/local/lib/python3.7/dist-packages (from packaging>=14.3->google-api-core<2.0.0dev,>=1.14.0->google-cloud-core<2.0dev,>=1.0.0->google-cloud-storage->uncertainty_baselines) (3.0.7)\n",
            "Requirement already satisfied: pyasn1<0.5.0,>=0.4.6 in /usr/local/lib/python3.7/dist-packages (from pyasn1-modules>=0.2.1->google-auth>=1.2.0->google-cloud-storage->uncertainty_baselines) (0.4.8)\n",
            "Requirement already satisfied: PyYAML in /usr/local/lib/python3.7/dist-packages (from ml_collections->uncertainty_baselines) (3.13)\n",
            "Requirement already satisfied: contextlib2 in /usr/local/lib/python3.7/dist-packages (from ml_collections->uncertainty_baselines) (0.5.5)\n",
            "Requirement already satisfied: python-dateutil>=2.7.3 in /usr/local/lib/python3.7/dist-packages (from pandas->robustness_metrics@ git+https://github.com/google-research/robustness_metrics.git#egg=robustness_metrics->uncertainty_baselines) (2.8.2)\n",
            "Requirement already satisfied: threadpoolctl>=2.0.0 in /usr/local/lib/python3.7/dist-packages (from scikit-learn->robustness_metrics@ git+https://github.com/google-research/robustness_metrics.git#egg=robustness_metrics->uncertainty_baselines) (3.1.0)\n",
            "Requirement already satisfied: joblib>=0.11 in /usr/local/lib/python3.7/dist-packages (from scikit-learn->robustness_metrics@ git+https://github.com/google-research/robustness_metrics.git#egg=robustness_metrics->uncertainty_baselines) (1.1.0)\n",
            "Requirement already satisfied: scipy>=1.1.0 in /usr/local/lib/python3.7/dist-packages (from scikit-learn->robustness_metrics@ git+https://github.com/google-research/robustness_metrics.git#egg=robustness_metrics->uncertainty_baselines) (1.4.1)\n",
            "Requirement already satisfied: attrs>=18.1.0 in /usr/local/lib/python3.7/dist-packages (from tensorflow_datasets->robustness_metrics@ git+https://github.com/google-research/robustness_metrics.git#egg=robustness_metrics->uncertainty_baselines) (21.4.0)\n",
            "Requirement already satisfied: dm-tree in /usr/local/lib/python3.7/dist-packages (from tensorflow_datasets->robustness_metrics@ git+https://github.com/google-research/robustness_metrics.git#egg=robustness_metrics->uncertainty_baselines) (0.1.6)\n",
            "Requirement already satisfied: decorator in /usr/local/lib/python3.7/dist-packages (from tensorflow_probability->uncertainty_baselines) (4.4.2)\n",
            "Requirement already satisfied: cloudpickle>=1.3 in /usr/local/lib/python3.7/dist-packages (from tensorflow_probability->uncertainty_baselines) (1.3.0)\n",
            "Requirement already satisfied: gast>=0.3.2 in /usr/local/lib/python3.7/dist-packages (from tensorflow_probability->uncertainty_baselines) (0.5.3)\n",
            "Building wheels for collected packages: uncertainty-baselines, robustness-metrics, ml-collections\n",
            "  Building wheel for uncertainty-baselines (setup.py) ... \u001b[?25l\u001b[?25hdone\n",
            "  Created wheel for uncertainty-baselines: filename=uncertainty_baselines-0.0.7-py3-none-any.whl size=385598 sha256=38b6910502cda2e74bb9bb7396b9cea0d221361fadeaa776f6ceda96e7377d04\n",
            "  Stored in directory: /tmp/pip-ephem-wheel-cache-w03qd8fk/wheels/21/3d/db/b977907ed5ef3011394e71840a06659c887ac9d2a67a6c3b6a\n",
            "  Building wheel for robustness-metrics (setup.py) ... \u001b[?25l\u001b[?25hdone\n",
            "  Created wheel for robustness-metrics: filename=robustness_metrics-0.0.1-py3-none-any.whl size=160811 sha256=752d256569e72c89606cc2f427a0af8be6540c799f4e7f5eb4090f229507a339\n",
            "  Stored in directory: /tmp/pip-ephem-wheel-cache-w03qd8fk/wheels/a9/e7/5d/1a425a180eda20d7252a79ee1474ec45845ee20d70e1e6bb82\n",
            "  Building wheel for ml-collections (setup.py) ... \u001b[?25l\u001b[?25hdone\n",
            "  Created wheel for ml-collections: filename=ml_collections-0.1.1-py3-none-any.whl size=94524 sha256=3de9ea665f6c30de7aa4f0fd47d3038a1c2172968aa1613341b852f28157b486\n",
            "  Stored in directory: /root/.cache/pip/wheels/b7/da/64/33c926a1b10ff19791081b705879561b715a8341a856a3bbd2\n",
            "Successfully built uncertainty-baselines robustness-metrics ml-collections\n",
            "Installing collected packages: jmp, tfds-nightly, robustness-metrics, ml-collections, dm-haiku, uncertainty-baselines\n",
            "Successfully installed dm-haiku-0.0.6 jmp-0.0.2 ml-collections-0.1.1 robustness-metrics-0.0.1 tfds-nightly-4.4.0.dev202111160106 uncertainty-baselines-0.0.7\n"
          ]
        }
      ],
      "source": [
        "!pip install \"git+https://github.com/google/uncertainty-baselines.git#egg=uncertainty_baselines\""
      ]
    },
    {
      "cell_type": "code",
      "source": [
        "import uncertainty_baselines as ub"
      ],
      "metadata": {
        "id": "TkKQ5Uixi-v3"
      },
      "execution_count": null,
      "outputs": []
    }
  ]
}